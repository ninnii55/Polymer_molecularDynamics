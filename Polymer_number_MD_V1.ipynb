{
 "cells": [
  {
   "cell_type": "code",
   "execution_count": 2,
   "id": "4998b98d-fa0b-42a0-a807-db109b1077bc",
   "metadata": {},
   "outputs": [],
   "source": [
    "import sys\n",
    "import numpy\n",
    "import math\n",
    "from decimal import Decimal"
   ]
  },
  {
   "cell_type": "code",
   "execution_count": 3,
   "id": "59c2b788-2101-4c25-b8b5-f658adae63f9",
   "metadata": {},
   "outputs": [],
   "source": [
    "\n",
    "#Constants\n",
    "waterMw = 18.01 # g/mol\n",
    "liquidDensity = 1.03 # kg/m³ \n",
    "avoNumber = 6.023E+23"
   ]
  },
  {
   "cell_type": "markdown",
   "id": "3a2feb7e-f796-4d98-a741-95fa2b41412c",
   "metadata": {},
   "source": [
    "# Function"
   ]
  },
  {
   "cell_type": "markdown",
   "id": "2edb73c1-1c52-4c8b-a5ac-30b84db961fa",
   "metadata": {},
   "source": [
    "## polymer"
   ]
  },
  {
   "cell_type": "code",
   "execution_count": 5,
   "id": "2b67c496-4e4d-41e2-b1c0-3d4959280661",
   "metadata": {},
   "outputs": [
    {
     "name": "stdin",
     "output_type": "stream",
     "text": [
      "Enter polymerMw values separated by commas:  2079.9, 3400.0\n",
      "What is the size of simulation (cube) in nm?  7.5\n",
      "What % in w/v of polymer solution you need?  10.0\n"
     ]
    },
    {
     "name": "stdout",
     "output_type": "stream",
     "text": [
      "\n",
      " The average number of polymers you need in a 4.2187499999999997e-19 cm^3 box is: 10.14 peptides\n"
     ]
    }
   ],
   "source": [
    "# formular trying to recreate for ;\n",
    "# peptide = {[(Box volume (cm3)*density of water)*percent ratio OF PEPTIDE]/Mw Of peptide or compund}*Avogardros number\n",
    "# water = {[(Box volume (cm3)*density of water)*percent ratio OF WATER]/Mw Of WATER}*Avogardros number \n",
    "\n",
    "\n",
    "# Input\n",
    "polymerMw_input = input(\"Enter polymerMw values separated by commas: \")\n",
    "polymerMw_values = [float(value) for value in polymerMw_input.split(',')]\n",
    "ensembleSize = float(input(\"What is the size of simulation (cube) in nm? \"))\n",
    "percentPolymer = float(input(\"What % in w/v of polymer solution you need? \")) / 100\n",
    "boxSize = ((ensembleSize * ensembleSize * ensembleSize) * 1e-21)  # conversion from nm3 to cm3\n",
    "\n",
    "# Function for polymer/protein/peptides\n",
    "def numOfpolymermolecules(polymerMw_values, ensembleSize, percentPolymer):\n",
    "    total_result = 0\n",
    "    for polymerMw in polymerMw_values:\n",
    "        result = (((boxSize * liquidDensity) * percentPolymer) / polymerMw) * avoNumber\n",
    "        total_result += result\n",
    "\n",
    "    average_result = total_result / len(polymerMw_values)\n",
    "    return print(f'\\n The average number of polymers you need in a {boxSize} cm^3 box is: {round(average_result, 2)} peptides', flush=True)\n",
    "\n",
    "# Call the function\n",
    "numOfpolymermolecules(polymerMw_values, ensembleSize, percentPolymer)"
   ]
  },
  {
   "cell_type": "markdown",
   "id": "ac94aef6-dc14-48b9-a09f-a9986a597dec",
   "metadata": {},
   "source": [
    "## Water"
   ]
  },
  {
   "cell_type": "code",
   "execution_count": 6,
   "id": "8b6820b7-08d8-4d92-b14a-6d037e6df042",
   "metadata": {},
   "outputs": [
    {
     "name": "stdin",
     "output_type": "stream",
     "text": [
      "what % in w/v of water you need?  80.0\n"
     ]
    },
    {
     "name": "stdout",
     "output_type": "stream",
     "text": [
      "\n",
      " The number of waters you need in a 4.2187499999999997e-19 cm^3 box is: 11625.46 waters\n"
     ]
    }
   ],
   "source": [
    "percentWater = (float((input(\"what % in w/v of water you need? \"))))/100\n",
    "\n",
    "#Function for water\n",
    "def numOfWatermolecules(waterMw, ensembleSize, percentWater):\n",
    "    #maths of function\n",
    "    result = (((boxSize * liquidDensity) * percentWater)/waterMw) * avoNumber\n",
    "    return print(f'\\n The number of waters you need in a {boxSize} cm^3 box is: {round(result,2)} waters', flush=True)\n",
    "\n",
    "# Call the function\n",
    "numOfWatermolecules(waterMw, ensembleSize, percentWater)"
   ]
  },
  {
   "cell_type": "code",
   "execution_count": null,
   "id": "93b96963-e305-4047-97ef-a6eb39d0cb0c",
   "metadata": {},
   "outputs": [],
   "source": []
  }
 ],
 "metadata": {
  "kernelspec": {
   "display_name": "Python 3 (ipykernel)",
   "language": "python",
   "name": "python3"
  },
  "language_info": {
   "codemirror_mode": {
    "name": "ipython",
    "version": 3
   },
   "file_extension": ".py",
   "mimetype": "text/x-python",
   "name": "python",
   "nbconvert_exporter": "python",
   "pygments_lexer": "ipython3",
   "version": "3.10.11"
  }
 },
 "nbformat": 4,
 "nbformat_minor": 5
}
